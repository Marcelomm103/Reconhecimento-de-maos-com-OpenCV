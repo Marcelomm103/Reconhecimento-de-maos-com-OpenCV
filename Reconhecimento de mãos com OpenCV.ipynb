{
 "cells": [
  {
   "cell_type": "code",
   "execution_count": 1,
   "id": "95079e34",
   "metadata": {},
   "outputs": [
    {
     "ename": "ModuleNotFoundError",
     "evalue": "No module named 'cv2'",
     "output_type": "error",
     "traceback": [
      "\u001b[1;31m---------------------------------------------------------------------------\u001b[0m",
      "\u001b[1;31mModuleNotFoundError\u001b[0m                       Traceback (most recent call last)",
      "\u001b[1;32m<ipython-input-1-c7bef7724563>\u001b[0m in \u001b[0;36m<module>\u001b[1;34m\u001b[0m\n\u001b[1;32m----> 1\u001b[1;33m \u001b[1;32mimport\u001b[0m \u001b[0mcv2\u001b[0m\u001b[1;33m\u001b[0m\u001b[1;33m\u001b[0m\u001b[0m\n\u001b[0m\u001b[0;32m      2\u001b[0m \u001b[1;32mimport\u001b[0m \u001b[0mmediapipe\u001b[0m \u001b[1;32mas\u001b[0m \u001b[0mmp\u001b[0m\u001b[1;33m\u001b[0m\u001b[1;33m\u001b[0m\u001b[0m\n\u001b[0;32m      3\u001b[0m \u001b[1;33m\u001b[0m\u001b[0m\n\u001b[0;32m      4\u001b[0m \u001b[1;31m# vincular a webcam ao python\u001b[0m\u001b[1;33m\u001b[0m\u001b[1;33m\u001b[0m\u001b[1;33m\u001b[0m\u001b[0m\n\u001b[0;32m      5\u001b[0m \u001b[0mwebcam\u001b[0m \u001b[1;33m=\u001b[0m \u001b[0mcv2\u001b[0m\u001b[1;33m.\u001b[0m\u001b[0mVideoCapture\u001b[0m\u001b[1;33m(\u001b[0m\u001b[1;36m0\u001b[0m\u001b[1;33m)\u001b[0m \u001b[1;31m# cria a conexão com a webcam\u001b[0m\u001b[1;33m\u001b[0m\u001b[1;33m\u001b[0m\u001b[0m\n",
      "\u001b[1;31mModuleNotFoundError\u001b[0m: No module named 'cv2'"
     ]
    }
   ],
   "source": [
    "import cv2\n",
    "import mediapipe as mp\n",
    "\n",
    "# vincular a webcam ao python\n",
    "webcam = cv2.VideoCapture(0) # cria a conexão com a webcam\n",
    "\n",
    "# inicializando o mediapipe\n",
    "reconhecimento_maos = mp.solutions.hands\n",
    "desenho_mp = mp.solutions.drawing_utils\n",
    "maos = reconhecimento_maos.Hands()\n",
    "\n",
    "# o que aconteceria se ele não tivesse conseguido conectar com a webcam\n",
    "if webcam.isOpened():\n",
    "    # vou ler a minha webcam (webcam.read())\n",
    "    validacao, frame = webcam.read()\n",
    "    # segundo problema -> entender o que é o webcam.read() -> temos que fazer ele pegar vários frames\n",
    "    # loop infinito\n",
    "    while validacao:\n",
    "        # pegar o próximo frame da tela\n",
    "        validacao, frame = webcam.read()\n",
    "        \n",
    "        # converte BGR (padrão do opencv) em RGB (padrão do mediapipe)\n",
    "        frameRGB = cv2.cvtColor(frame, cv2.COLOR_BGR2RGB)\n",
    "        \n",
    "        # desenhar a mão\n",
    "        lista_maos = maos.process(frameRGB)\n",
    "        if lista_maos.multi_hand_landmarks:\n",
    "            for mao in lista_maos.multi_hand_landmarks:\n",
    "                print(mao.landmark)\n",
    "                desenho_mp.draw_landmarks(frame, mao, reconhecimento_maos.HAND_CONNECTIONS)\n",
    "        \n",
    "        \n",
    "        # mostrar o frame da webcam que o python ta vendo\n",
    "        cv2.imshow(\"Video da Webcam\", frame)\n",
    "        # mandar o python esperar um pouquinho -> de um jeito inteligente\n",
    "        tecla = cv2.waitKey(2)\n",
    "        # mandar ele parar o código se eu clicar no ESC\n",
    "        if tecla == 27:\n",
    "            break\n",
    "\n",
    "# primeiro problema -> ele continua conectado na webcam\n",
    "webcam.release()\n",
    "cv2.destroyAllWindows()"
   ]
  },
  {
   "cell_type": "code",
   "execution_count": null,
   "id": "5c758c78",
   "metadata": {},
   "outputs": [],
   "source": []
  }
 ],
 "metadata": {
  "kernelspec": {
   "display_name": "Python 3",
   "language": "python",
   "name": "python3"
  },
  "language_info": {
   "codemirror_mode": {
    "name": "ipython",
    "version": 3
   },
   "file_extension": ".py",
   "mimetype": "text/x-python",
   "name": "python",
   "nbconvert_exporter": "python",
   "pygments_lexer": "ipython3",
   "version": "3.8.8"
  }
 },
 "nbformat": 4,
 "nbformat_minor": 5
}
