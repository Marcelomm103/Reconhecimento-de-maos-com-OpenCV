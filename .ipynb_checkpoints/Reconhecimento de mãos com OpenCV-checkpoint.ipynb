{
 "cells": [
  {
   "cell_type": "code",
   "execution_count": null,
   "id": "95079e34",
   "metadata": {},
   "outputs": [],
   "source": [
    "import cv2\n",
    "import mediapipe as mp\n",
    "\n",
    "# vincular a webcam ao python\n",
    "webcam = cv2.VideoCapture(0) # cria a conexão com a webcam\n",
    "\n",
    "# inicializando o mediapipe\n",
    "reconhecimento_maos = mp.solutions.hands\n",
    "desenho_mp = mp.solutions.drawing_utils\n",
    "maos = reconhecimento_maos.Hands()\n",
    "\n",
    "# o que aconteceria se ele não tivesse conseguido conectar com a webcam\n",
    "if webcam.isOpened():\n",
    "    # vou ler a minha webcam (webcam.read())\n",
    "    validacao, frame = webcam.read()\n",
    "    # segundo problema -> entender o que é o webcam.read() -> temos que fazer ele pegar vários frames\n",
    "    # loop infinito\n",
    "    while validacao:\n",
    "        # pegar o próximo frame da tela\n",
    "        validacao, frame = webcam.read()\n",
    "        \n",
    "        # converte BGR (padrão do opencv) em RGB (padrão do mediapipe)\n",
    "        frameRGB = cv2.cvtColor(frame, cv2.COLOR_BGR2RGB)\n",
    "        \n",
    "        # desenhar a mão\n",
    "        lista_maos = maos.process(frameRGB)\n",
    "        if lista_maos.multi_hand_landmarks:\n",
    "            for mao in lista_maos.multi_hand_landmarks:\n",
    "                print(mao.landmark)\n",
    "                desenho_mp.draw_landmarks(frame, mao, reconhecimento_maos.HAND_CONNECTIONS)\n",
    "        \n",
    "        \n",
    "        # mostrar o frame da webcam que o python ta vendo\n",
    "        cv2.imshow(\"Video da Webcam\", frame)\n",
    "        # mandar o python esperar um pouquinho -> de um jeito inteligente\n",
    "        tecla = cv2.waitKey(2)\n",
    "        # mandar ele parar o código se eu clicar no ESC\n",
    "        if tecla == 27:\n",
    "            break\n",
    "\n",
    "# primeiro problema -> ele continua conectado na webcam\n",
    "webcam.release()\n",
    "cv2.destroyAllWindows()"
   ]
  },
  {
   "cell_type": "code",
   "execution_count": null,
   "id": "5c758c78",
   "metadata": {},
   "outputs": [],
   "source": []
  }
 ],
 "metadata": {
  "kernelspec": {
   "display_name": "Python 3",
   "language": "python",
   "name": "python3"
  },
  "language_info": {
   "codemirror_mode": {
    "name": "ipython",
    "version": 3
   },
   "file_extension": ".py",
   "mimetype": "text/x-python",
   "name": "python",
   "nbconvert_exporter": "python",
   "pygments_lexer": "ipython3",
   "version": "3.8.8"
  }
 },
 "nbformat": 4,
 "nbformat_minor": 5
}
